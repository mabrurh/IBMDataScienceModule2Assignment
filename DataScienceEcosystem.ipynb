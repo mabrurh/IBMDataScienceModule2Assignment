{
  "nbformat": 4,
  "nbformat_minor": 0,
  "metadata": {
    "colab": {
      "provenance": []
    },
    "kernelspec": {
      "name": "python3",
      "display_name": "Python 3"
    },
    "language_info": {
      "name": "python"
    }
  },
  "cells": [
    {
      "cell_type": "markdown",
      "source": [
        "#Data Science Tools and Ecosystem"
      ],
      "metadata": {
        "id": "0zCuuq5XrqtJ"
      }
    },
    {
      "cell_type": "markdown",
      "source": [
        "In this notebook, Data Science Tools and Ecosystem are summarized."
      ],
      "metadata": {
        "id": "8FSufZSgsbCS"
      }
    },
    {
      "cell_type": "markdown",
      "source": [
        "Some of the popular languages that Data Scientists use are:\n",
        "1. Python\n",
        "2. R\n",
        "3. Scala"
      ],
      "metadata": {
        "id": "mBctRPljstm7"
      }
    },
    {
      "cell_type": "markdown",
      "source": [
        "Some of the commonly used libraries used by Data Scientists include:\n",
        "1. scikit-learn (Python)\n",
        "2. pandas (Python)\n",
        "3. caret (R)"
      ],
      "metadata": {
        "id": "5uKvh1NKs-u2"
      }
    },
    {
      "cell_type": "markdown",
      "source": [
        "| Data Science Tools |\n",
        "| ----- |\n",
        "| Jupyter Notebooks/Lab |\n",
        "| R Studio |\n",
        "| Zeppelin Notebooks |\n"
      ],
      "metadata": {
        "id": "72oFdlg9tSqz"
      }
    },
    {
      "cell_type": "markdown",
      "source": [
        "###Below are a few examples of evaluating arithmetic expressions in Python"
      ],
      "metadata": {
        "id": "TOyXffvSuiZD"
      }
    },
    {
      "cell_type": "code",
      "source": [
        "#This a simple arithmetic expression to mutiply then add integers\n",
        "(3*4)+5"
      ],
      "metadata": {
        "colab": {
          "base_uri": "https://localhost:8080/"
        },
        "id": "S_4mvXpIvCAc",
        "outputId": "3625e6b5-d46c-4949-b338-2bc96176e6a3"
      },
      "execution_count": 1,
      "outputs": [
        {
          "output_type": "execute_result",
          "data": {
            "text/plain": [
              "17"
            ]
          },
          "metadata": {},
          "execution_count": 1
        }
      ]
    },
    {
      "cell_type": "code",
      "source": [
        "#This will convert 200 minutes to hours by diving by 60\n",
        "minutes = 200\n",
        "hours = minutes/60\n",
        "print(hours)"
      ],
      "metadata": {
        "colab": {
          "base_uri": "https://localhost:8080/"
        },
        "id": "M8JQSETjvUE7",
        "outputId": "feb4eef2-cb82-476d-e0f7-459f8276c893"
      },
      "execution_count": 3,
      "outputs": [
        {
          "output_type": "stream",
          "name": "stdout",
          "text": [
            "3.3333333333333335\n"
          ]
        }
      ]
    },
    {
      "cell_type": "markdown",
      "source": [
        "**Objectives:**\n",
        "* List popular languages for Data Science\n",
        "* List commonly used libraries in Data Science\n",
        "* List tools used in Data Science\n",
        "* Perform computations in Jupyter"
      ],
      "metadata": {
        "id": "BPjxIlEJvyDT"
      }
    },
    {
      "cell_type": "markdown",
      "source": [
        "##Author\n",
        "D S Mabrur Hyder"
      ],
      "metadata": {
        "id": "yfDK6fGAwpIy"
      }
    }
  ]
}